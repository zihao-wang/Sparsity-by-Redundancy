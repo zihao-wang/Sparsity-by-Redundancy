{
 "cells": [
  {
   "cell_type": "code",
   "execution_count": 2,
   "id": "5459cf94",
   "metadata": {},
   "outputs": [],
   "source": [
    "import torch\n",
    "import torch.nn as nn\n",
    "import torch.optim as optim\n",
    "import torch.nn.functional as F\n",
    "import torch.backends.cudnn as cudnn\n",
    "\n",
    "import torchvision\n",
    "import torchvision.transforms as transforms\n",
    "\n",
    "import os\n",
    "import argparse\n",
    "\n",
    "from models import *\n",
    "#from utils import progress_bar\n",
    "\n",
    "import numpy as np\n",
    "import matplotlib.pyplot as plt\n",
    "\n",
    "import copy\n"
   ]
  },
  {
   "cell_type": "code",
   "execution_count": 3,
   "id": "63c9213d-cf6a-4cc0-b2df-7d3e66754fd0",
   "metadata": {},
   "outputs": [
    {
     "ename": "FileNotFoundError",
     "evalue": "[Errno 2] No such file or directory: './checkpoint_cifar10/thr_1e-5/last.ckpt'",
     "output_type": "error",
     "traceback": [
      "\u001b[0;31m---------------------------------------------------------------------------\u001b[0m",
      "\u001b[0;31mFileNotFoundError\u001b[0m                         Traceback (most recent call last)",
      "Input \u001b[0;32mIn [3]\u001b[0m, in \u001b[0;36m<cell line: 1>\u001b[0;34m()\u001b[0m\n\u001b[0;32m----> 1\u001b[0m state_dict \u001b[38;5;241m=\u001b[39m \u001b[43mtorch\u001b[49m\u001b[38;5;241;43m.\u001b[39;49m\u001b[43mload\u001b[49m\u001b[43m(\u001b[49m\u001b[38;5;124;43m'\u001b[39;49m\u001b[38;5;124;43m./checkpoint_cifar10/thr_1e-5/last.ckpt\u001b[39;49m\u001b[38;5;124;43m'\u001b[39;49m\u001b[43m,\u001b[49m\u001b[43m \u001b[49m\u001b[43mmap_location\u001b[49m\u001b[38;5;241;43m=\u001b[39;49m\u001b[38;5;124;43m'\u001b[39;49m\u001b[38;5;124;43mcpu\u001b[39;49m\u001b[38;5;124;43m'\u001b[39;49m\u001b[43m)\u001b[49m\n",
      "File \u001b[0;32m~/anaconda3/lib/python3.9/site-packages/torch/serialization.py:699\u001b[0m, in \u001b[0;36mload\u001b[0;34m(f, map_location, pickle_module, **pickle_load_args)\u001b[0m\n\u001b[1;32m    696\u001b[0m \u001b[38;5;28;01mif\u001b[39;00m \u001b[38;5;124m'\u001b[39m\u001b[38;5;124mencoding\u001b[39m\u001b[38;5;124m'\u001b[39m \u001b[38;5;129;01mnot\u001b[39;00m \u001b[38;5;129;01min\u001b[39;00m pickle_load_args\u001b[38;5;241m.\u001b[39mkeys():\n\u001b[1;32m    697\u001b[0m     pickle_load_args[\u001b[38;5;124m'\u001b[39m\u001b[38;5;124mencoding\u001b[39m\u001b[38;5;124m'\u001b[39m] \u001b[38;5;241m=\u001b[39m \u001b[38;5;124m'\u001b[39m\u001b[38;5;124mutf-8\u001b[39m\u001b[38;5;124m'\u001b[39m\n\u001b[0;32m--> 699\u001b[0m \u001b[38;5;28;01mwith\u001b[39;00m \u001b[43m_open_file_like\u001b[49m\u001b[43m(\u001b[49m\u001b[43mf\u001b[49m\u001b[43m,\u001b[49m\u001b[43m \u001b[49m\u001b[38;5;124;43m'\u001b[39;49m\u001b[38;5;124;43mrb\u001b[39;49m\u001b[38;5;124;43m'\u001b[39;49m\u001b[43m)\u001b[49m \u001b[38;5;28;01mas\u001b[39;00m opened_file:\n\u001b[1;32m    700\u001b[0m     \u001b[38;5;28;01mif\u001b[39;00m _is_zipfile(opened_file):\n\u001b[1;32m    701\u001b[0m         \u001b[38;5;66;03m# The zipfile reader is going to advance the current file position.\u001b[39;00m\n\u001b[1;32m    702\u001b[0m         \u001b[38;5;66;03m# If we want to actually tail call to torch.jit.load, we need to\u001b[39;00m\n\u001b[1;32m    703\u001b[0m         \u001b[38;5;66;03m# reset back to the original position.\u001b[39;00m\n\u001b[1;32m    704\u001b[0m         orig_position \u001b[38;5;241m=\u001b[39m opened_file\u001b[38;5;241m.\u001b[39mtell()\n",
      "File \u001b[0;32m~/anaconda3/lib/python3.9/site-packages/torch/serialization.py:230\u001b[0m, in \u001b[0;36m_open_file_like\u001b[0;34m(name_or_buffer, mode)\u001b[0m\n\u001b[1;32m    228\u001b[0m \u001b[38;5;28;01mdef\u001b[39;00m \u001b[38;5;21m_open_file_like\u001b[39m(name_or_buffer, mode):\n\u001b[1;32m    229\u001b[0m     \u001b[38;5;28;01mif\u001b[39;00m _is_path(name_or_buffer):\n\u001b[0;32m--> 230\u001b[0m         \u001b[38;5;28;01mreturn\u001b[39;00m \u001b[43m_open_file\u001b[49m\u001b[43m(\u001b[49m\u001b[43mname_or_buffer\u001b[49m\u001b[43m,\u001b[49m\u001b[43m \u001b[49m\u001b[43mmode\u001b[49m\u001b[43m)\u001b[49m\n\u001b[1;32m    231\u001b[0m     \u001b[38;5;28;01melse\u001b[39;00m:\n\u001b[1;32m    232\u001b[0m         \u001b[38;5;28;01mif\u001b[39;00m \u001b[38;5;124m'\u001b[39m\u001b[38;5;124mw\u001b[39m\u001b[38;5;124m'\u001b[39m \u001b[38;5;129;01min\u001b[39;00m mode:\n",
      "File \u001b[0;32m~/anaconda3/lib/python3.9/site-packages/torch/serialization.py:211\u001b[0m, in \u001b[0;36m_open_file.__init__\u001b[0;34m(self, name, mode)\u001b[0m\n\u001b[1;32m    210\u001b[0m \u001b[38;5;28;01mdef\u001b[39;00m \u001b[38;5;21m__init__\u001b[39m(\u001b[38;5;28mself\u001b[39m, name, mode):\n\u001b[0;32m--> 211\u001b[0m     \u001b[38;5;28msuper\u001b[39m(_open_file, \u001b[38;5;28mself\u001b[39m)\u001b[38;5;241m.\u001b[39m\u001b[38;5;21m__init__\u001b[39m(\u001b[38;5;28;43mopen\u001b[39;49m\u001b[43m(\u001b[49m\u001b[43mname\u001b[49m\u001b[43m,\u001b[49m\u001b[43m \u001b[49m\u001b[43mmode\u001b[49m\u001b[43m)\u001b[49m)\n",
      "\u001b[0;31mFileNotFoundError\u001b[0m: [Errno 2] No such file or directory: './checkpoint_cifar10/thr_1e-5/last.ckpt'"
     ]
    }
   ],
   "source": [
    "state_dict = torch.load('./checkpoint_cifar10/thr_1e-5/last.ckpt', map_location='cpu')"
   ]
  },
  {
   "cell_type": "code",
   "execution_count": null,
   "id": "2ffcf6b5-a372-4b78-9e39-f59486bd2620",
   "metadata": {},
   "outputs": [],
   "source": [
    "state_dict['net'].keys()"
   ]
  },
  {
   "cell_type": "code",
   "execution_count": 4,
   "id": "a4ef5cbc",
   "metadata": {},
   "outputs": [],
   "source": [
    "def investigate(fname, spar_thr, filter=True):\n",
    "    checkpoint = torch.load(fname, map_location='cpu')\n",
    "    best_acc = checkpoint['acc']\n",
    "    net_state_dict = checkpoint['net']\n",
    "    total_num_params = 0\n",
    "    non_zero_num_params = 0\n",
    "    for k in net_state_dict:\n",
    "        if ('conv' in k and 'weight' in k) or ('linear.weight' in k) or filter == False:\n",
    "            param = net_state_dict[k]\n",
    "            total_num_params += param.numel()\n",
    "            non_zero_num_params += (param > spar_thr).sum()\n",
    "            #print(total_num_params / non_zero_num_params)\n",
    "    compress_ratio = total_num_params / non_zero_num_params\n",
    "    return best_acc, compress_ratio.item()"
   ]
  },
  {
   "cell_type": "code",
   "execution_count": 4,
   "id": "783ead8b-ba7a-4850-85d8-f3f91cc9d95b",
   "metadata": {},
   "outputs": [
    {
     "name": "stdout",
     "output_type": "stream",
     "text": [
      "cifar10\n"
     ]
    },
    {
     "ename": "FileNotFoundError",
     "evalue": "[Errno 2] No such file or directory: './checkpoint_cifar10/thr_1e-1/last.ckpt'",
     "output_type": "error",
     "traceback": [
      "\u001b[0;31m---------------------------------------------------------------------------\u001b[0m",
      "\u001b[0;31mFileNotFoundError\u001b[0m                         Traceback (most recent call last)",
      "Input \u001b[0;32mIn [4]\u001b[0m, in \u001b[0;36m<cell line: 7>\u001b[0;34m()\u001b[0m\n\u001b[1;32m      6\u001b[0m acc_list, cr_list \u001b[38;5;241m=\u001b[39m [], []\n\u001b[1;32m      7\u001b[0m \u001b[38;5;28;01mfor\u001b[39;00m k \u001b[38;5;129;01min\u001b[39;00m \u001b[38;5;124m\"\u001b[39m\u001b[38;5;124m1e-1,8e-2,6e-2,4e-2,2e-2,1e-2,1e-3,1e-4,1e-5,1e-6\u001b[39m\u001b[38;5;124m\"\u001b[39m\u001b[38;5;241m.\u001b[39msplit(\u001b[38;5;124m'\u001b[39m\u001b[38;5;124m,\u001b[39m\u001b[38;5;124m'\u001b[39m):\n\u001b[0;32m----> 8\u001b[0m     _acc, _cr \u001b[38;5;241m=\u001b[39m \u001b[43minvestigate\u001b[49m\u001b[43m(\u001b[49m\u001b[38;5;124;43mf\u001b[39;49m\u001b[38;5;124;43m'\u001b[39;49m\u001b[38;5;124;43m./checkpoint_\u001b[39;49m\u001b[38;5;132;43;01m{\u001b[39;49;00m\u001b[43mname\u001b[49m\u001b[38;5;132;43;01m}\u001b[39;49;00m\u001b[38;5;124;43m/thr_\u001b[39;49m\u001b[38;5;132;43;01m{\u001b[39;49;00m\u001b[43mk\u001b[49m\u001b[38;5;132;43;01m}\u001b[39;49;00m\u001b[38;5;124;43m/last.ckpt\u001b[39;49m\u001b[38;5;124;43m'\u001b[39;49m\u001b[43m,\u001b[49m\u001b[43m \u001b[49m\u001b[43mspar_thr\u001b[49m\u001b[43m,\u001b[49m\u001b[43m \u001b[49m\u001b[38;5;28;43mfilter\u001b[39;49m\u001b[38;5;241;43m=\u001b[39;49m\u001b[43mfilter_flag\u001b[49m\u001b[43m)\u001b[49m\n\u001b[1;32m      9\u001b[0m     acc_list\u001b[38;5;241m.\u001b[39mappend(_acc)\n\u001b[1;32m     10\u001b[0m     cr_list\u001b[38;5;241m.\u001b[39mappend(_cr)\n",
      "Input \u001b[0;32mIn [3]\u001b[0m, in \u001b[0;36minvestigate\u001b[0;34m(fname, spar_thr, filter)\u001b[0m\n\u001b[1;32m      1\u001b[0m \u001b[38;5;28;01mdef\u001b[39;00m \u001b[38;5;21minvestigate\u001b[39m(fname, spar_thr, \u001b[38;5;28mfilter\u001b[39m\u001b[38;5;241m=\u001b[39m\u001b[38;5;28;01mTrue\u001b[39;00m):\n\u001b[0;32m----> 2\u001b[0m     checkpoint \u001b[38;5;241m=\u001b[39m \u001b[43mtorch\u001b[49m\u001b[38;5;241;43m.\u001b[39;49m\u001b[43mload\u001b[49m\u001b[43m(\u001b[49m\u001b[43mfname\u001b[49m\u001b[43m,\u001b[49m\u001b[43m \u001b[49m\u001b[43mmap_location\u001b[49m\u001b[38;5;241;43m=\u001b[39;49m\u001b[38;5;124;43m'\u001b[39;49m\u001b[38;5;124;43mcpu\u001b[39;49m\u001b[38;5;124;43m'\u001b[39;49m\u001b[43m)\u001b[49m\n\u001b[1;32m      3\u001b[0m     best_acc \u001b[38;5;241m=\u001b[39m checkpoint[\u001b[38;5;124m'\u001b[39m\u001b[38;5;124macc\u001b[39m\u001b[38;5;124m'\u001b[39m]\n\u001b[1;32m      4\u001b[0m     net_state_dict \u001b[38;5;241m=\u001b[39m checkpoint[\u001b[38;5;124m'\u001b[39m\u001b[38;5;124mnet\u001b[39m\u001b[38;5;124m'\u001b[39m]\n",
      "File \u001b[0;32m~/anaconda3/lib/python3.9/site-packages/torch/serialization.py:699\u001b[0m, in \u001b[0;36mload\u001b[0;34m(f, map_location, pickle_module, **pickle_load_args)\u001b[0m\n\u001b[1;32m    696\u001b[0m \u001b[38;5;28;01mif\u001b[39;00m \u001b[38;5;124m'\u001b[39m\u001b[38;5;124mencoding\u001b[39m\u001b[38;5;124m'\u001b[39m \u001b[38;5;129;01mnot\u001b[39;00m \u001b[38;5;129;01min\u001b[39;00m pickle_load_args\u001b[38;5;241m.\u001b[39mkeys():\n\u001b[1;32m    697\u001b[0m     pickle_load_args[\u001b[38;5;124m'\u001b[39m\u001b[38;5;124mencoding\u001b[39m\u001b[38;5;124m'\u001b[39m] \u001b[38;5;241m=\u001b[39m \u001b[38;5;124m'\u001b[39m\u001b[38;5;124mutf-8\u001b[39m\u001b[38;5;124m'\u001b[39m\n\u001b[0;32m--> 699\u001b[0m \u001b[38;5;28;01mwith\u001b[39;00m \u001b[43m_open_file_like\u001b[49m\u001b[43m(\u001b[49m\u001b[43mf\u001b[49m\u001b[43m,\u001b[49m\u001b[43m \u001b[49m\u001b[38;5;124;43m'\u001b[39;49m\u001b[38;5;124;43mrb\u001b[39;49m\u001b[38;5;124;43m'\u001b[39;49m\u001b[43m)\u001b[49m \u001b[38;5;28;01mas\u001b[39;00m opened_file:\n\u001b[1;32m    700\u001b[0m     \u001b[38;5;28;01mif\u001b[39;00m _is_zipfile(opened_file):\n\u001b[1;32m    701\u001b[0m         \u001b[38;5;66;03m# The zipfile reader is going to advance the current file position.\u001b[39;00m\n\u001b[1;32m    702\u001b[0m         \u001b[38;5;66;03m# If we want to actually tail call to torch.jit.load, we need to\u001b[39;00m\n\u001b[1;32m    703\u001b[0m         \u001b[38;5;66;03m# reset back to the original position.\u001b[39;00m\n\u001b[1;32m    704\u001b[0m         orig_position \u001b[38;5;241m=\u001b[39m opened_file\u001b[38;5;241m.\u001b[39mtell()\n",
      "File \u001b[0;32m~/anaconda3/lib/python3.9/site-packages/torch/serialization.py:230\u001b[0m, in \u001b[0;36m_open_file_like\u001b[0;34m(name_or_buffer, mode)\u001b[0m\n\u001b[1;32m    228\u001b[0m \u001b[38;5;28;01mdef\u001b[39;00m \u001b[38;5;21m_open_file_like\u001b[39m(name_or_buffer, mode):\n\u001b[1;32m    229\u001b[0m     \u001b[38;5;28;01mif\u001b[39;00m _is_path(name_or_buffer):\n\u001b[0;32m--> 230\u001b[0m         \u001b[38;5;28;01mreturn\u001b[39;00m \u001b[43m_open_file\u001b[49m\u001b[43m(\u001b[49m\u001b[43mname_or_buffer\u001b[49m\u001b[43m,\u001b[49m\u001b[43m \u001b[49m\u001b[43mmode\u001b[49m\u001b[43m)\u001b[49m\n\u001b[1;32m    231\u001b[0m     \u001b[38;5;28;01melse\u001b[39;00m:\n\u001b[1;32m    232\u001b[0m         \u001b[38;5;28;01mif\u001b[39;00m \u001b[38;5;124m'\u001b[39m\u001b[38;5;124mw\u001b[39m\u001b[38;5;124m'\u001b[39m \u001b[38;5;129;01min\u001b[39;00m mode:\n",
      "File \u001b[0;32m~/anaconda3/lib/python3.9/site-packages/torch/serialization.py:211\u001b[0m, in \u001b[0;36m_open_file.__init__\u001b[0;34m(self, name, mode)\u001b[0m\n\u001b[1;32m    210\u001b[0m \u001b[38;5;28;01mdef\u001b[39;00m \u001b[38;5;21m__init__\u001b[39m(\u001b[38;5;28mself\u001b[39m, name, mode):\n\u001b[0;32m--> 211\u001b[0m     \u001b[38;5;28msuper\u001b[39m(_open_file, \u001b[38;5;28mself\u001b[39m)\u001b[38;5;241m.\u001b[39m\u001b[38;5;21m__init__\u001b[39m(\u001b[38;5;28;43mopen\u001b[39;49m\u001b[43m(\u001b[49m\u001b[43mname\u001b[49m\u001b[43m,\u001b[49m\u001b[43m \u001b[49m\u001b[43mmode\u001b[49m\u001b[43m)\u001b[49m)\n",
      "\u001b[0;31mFileNotFoundError\u001b[0m: [Errno 2] No such file or directory: './checkpoint_cifar10/thr_1e-1/last.ckpt'"
     ]
    }
   ],
   "source": [
    "name = 'cifar10'\n",
    "spar_thr = 1e-10\n",
    "filter_flag = True\n",
    "print(name)\n",
    "\n",
    "acc_list, cr_list = [], []\n",
    "for k in \"1e-1,8e-2,6e-2,4e-2,2e-2,1e-2,1e-3,1e-4,1e-5,1e-6\".split(','):\n",
    "    _acc, _cr = investigate(f'./checkpoint_{name}/thr_{k}/last.ckpt', spar_thr, filter=filter_flag)\n",
    "    acc_list.append(_acc)\n",
    "    cr_list.append(_cr)\n",
    "print(cr_list)\n",
    "print(acc_list)\n",
    "    \n",
    "plt.plot(cr_list, acc_list)\n",
    "plt.title(f\"dataset {name} zero thr {spar_thr} filter conv and linear={filter_flag}\")\n",
    "plt.xscale('log')\n",
    "plt.xlabel('Compression Ratio')\n",
    "plt.ylabel('Accuracy')"
   ]
  },
  {
   "cell_type": "code",
   "execution_count": 5,
   "id": "86a4c6df-ee73-4f2a-a175-c22520e638c2",
   "metadata": {},
   "outputs": [
    {
     "name": "stdout",
     "output_type": "stream",
     "text": [
      "cifar10\n"
     ]
    },
    {
     "ename": "FileNotFoundError",
     "evalue": "[Errno 2] No such file or directory: './checkpoint_cifar10/thr_1e-1/last.ckpt'",
     "output_type": "error",
     "traceback": [
      "\u001b[0;31m---------------------------------------------------------------------------\u001b[0m",
      "\u001b[0;31mFileNotFoundError\u001b[0m                         Traceback (most recent call last)",
      "Input \u001b[0;32mIn [5]\u001b[0m, in \u001b[0;36m<cell line: 7>\u001b[0;34m()\u001b[0m\n\u001b[1;32m      6\u001b[0m acc_list, cr_list \u001b[38;5;241m=\u001b[39m [], []\n\u001b[1;32m      7\u001b[0m \u001b[38;5;28;01mfor\u001b[39;00m k \u001b[38;5;129;01min\u001b[39;00m \u001b[38;5;124m\"\u001b[39m\u001b[38;5;124m1e-1,8e-2,6e-2,4e-2,2e-2,1e-2,1e-3,1e-4,1e-5,1e-6\u001b[39m\u001b[38;5;124m\"\u001b[39m\u001b[38;5;241m.\u001b[39msplit(\u001b[38;5;124m'\u001b[39m\u001b[38;5;124m,\u001b[39m\u001b[38;5;124m'\u001b[39m):\n\u001b[0;32m----> 8\u001b[0m     _acc, _cr \u001b[38;5;241m=\u001b[39m \u001b[43minvestigate\u001b[49m\u001b[43m(\u001b[49m\u001b[38;5;124;43mf\u001b[39;49m\u001b[38;5;124;43m'\u001b[39;49m\u001b[38;5;124;43m./checkpoint_\u001b[39;49m\u001b[38;5;132;43;01m{\u001b[39;49;00m\u001b[43mname\u001b[49m\u001b[38;5;132;43;01m}\u001b[39;49;00m\u001b[38;5;124;43m/thr_\u001b[39;49m\u001b[38;5;132;43;01m{\u001b[39;49;00m\u001b[43mk\u001b[49m\u001b[38;5;132;43;01m}\u001b[39;49;00m\u001b[38;5;124;43m/last.ckpt\u001b[39;49m\u001b[38;5;124;43m'\u001b[39;49m\u001b[43m,\u001b[49m\u001b[43m \u001b[49m\u001b[43mspar_thr\u001b[49m\u001b[43m,\u001b[49m\u001b[43m \u001b[49m\u001b[38;5;28;43mfilter\u001b[39;49m\u001b[38;5;241;43m=\u001b[39;49m\u001b[43mfilter_flag\u001b[49m\u001b[43m)\u001b[49m\n\u001b[1;32m      9\u001b[0m     acc_list\u001b[38;5;241m.\u001b[39mappend(_acc)\n\u001b[1;32m     10\u001b[0m     cr_list\u001b[38;5;241m.\u001b[39mappend(_cr)\n",
      "Input \u001b[0;32mIn [3]\u001b[0m, in \u001b[0;36minvestigate\u001b[0;34m(fname, spar_thr, filter)\u001b[0m\n\u001b[1;32m      1\u001b[0m \u001b[38;5;28;01mdef\u001b[39;00m \u001b[38;5;21minvestigate\u001b[39m(fname, spar_thr, \u001b[38;5;28mfilter\u001b[39m\u001b[38;5;241m=\u001b[39m\u001b[38;5;28;01mTrue\u001b[39;00m):\n\u001b[0;32m----> 2\u001b[0m     checkpoint \u001b[38;5;241m=\u001b[39m \u001b[43mtorch\u001b[49m\u001b[38;5;241;43m.\u001b[39;49m\u001b[43mload\u001b[49m\u001b[43m(\u001b[49m\u001b[43mfname\u001b[49m\u001b[43m,\u001b[49m\u001b[43m \u001b[49m\u001b[43mmap_location\u001b[49m\u001b[38;5;241;43m=\u001b[39;49m\u001b[38;5;124;43m'\u001b[39;49m\u001b[38;5;124;43mcpu\u001b[39;49m\u001b[38;5;124;43m'\u001b[39;49m\u001b[43m)\u001b[49m\n\u001b[1;32m      3\u001b[0m     best_acc \u001b[38;5;241m=\u001b[39m checkpoint[\u001b[38;5;124m'\u001b[39m\u001b[38;5;124macc\u001b[39m\u001b[38;5;124m'\u001b[39m]\n\u001b[1;32m      4\u001b[0m     net_state_dict \u001b[38;5;241m=\u001b[39m checkpoint[\u001b[38;5;124m'\u001b[39m\u001b[38;5;124mnet\u001b[39m\u001b[38;5;124m'\u001b[39m]\n",
      "File \u001b[0;32m~/anaconda3/lib/python3.9/site-packages/torch/serialization.py:699\u001b[0m, in \u001b[0;36mload\u001b[0;34m(f, map_location, pickle_module, **pickle_load_args)\u001b[0m\n\u001b[1;32m    696\u001b[0m \u001b[38;5;28;01mif\u001b[39;00m \u001b[38;5;124m'\u001b[39m\u001b[38;5;124mencoding\u001b[39m\u001b[38;5;124m'\u001b[39m \u001b[38;5;129;01mnot\u001b[39;00m \u001b[38;5;129;01min\u001b[39;00m pickle_load_args\u001b[38;5;241m.\u001b[39mkeys():\n\u001b[1;32m    697\u001b[0m     pickle_load_args[\u001b[38;5;124m'\u001b[39m\u001b[38;5;124mencoding\u001b[39m\u001b[38;5;124m'\u001b[39m] \u001b[38;5;241m=\u001b[39m \u001b[38;5;124m'\u001b[39m\u001b[38;5;124mutf-8\u001b[39m\u001b[38;5;124m'\u001b[39m\n\u001b[0;32m--> 699\u001b[0m \u001b[38;5;28;01mwith\u001b[39;00m \u001b[43m_open_file_like\u001b[49m\u001b[43m(\u001b[49m\u001b[43mf\u001b[49m\u001b[43m,\u001b[49m\u001b[43m \u001b[49m\u001b[38;5;124;43m'\u001b[39;49m\u001b[38;5;124;43mrb\u001b[39;49m\u001b[38;5;124;43m'\u001b[39;49m\u001b[43m)\u001b[49m \u001b[38;5;28;01mas\u001b[39;00m opened_file:\n\u001b[1;32m    700\u001b[0m     \u001b[38;5;28;01mif\u001b[39;00m _is_zipfile(opened_file):\n\u001b[1;32m    701\u001b[0m         \u001b[38;5;66;03m# The zipfile reader is going to advance the current file position.\u001b[39;00m\n\u001b[1;32m    702\u001b[0m         \u001b[38;5;66;03m# If we want to actually tail call to torch.jit.load, we need to\u001b[39;00m\n\u001b[1;32m    703\u001b[0m         \u001b[38;5;66;03m# reset back to the original position.\u001b[39;00m\n\u001b[1;32m    704\u001b[0m         orig_position \u001b[38;5;241m=\u001b[39m opened_file\u001b[38;5;241m.\u001b[39mtell()\n",
      "File \u001b[0;32m~/anaconda3/lib/python3.9/site-packages/torch/serialization.py:230\u001b[0m, in \u001b[0;36m_open_file_like\u001b[0;34m(name_or_buffer, mode)\u001b[0m\n\u001b[1;32m    228\u001b[0m \u001b[38;5;28;01mdef\u001b[39;00m \u001b[38;5;21m_open_file_like\u001b[39m(name_or_buffer, mode):\n\u001b[1;32m    229\u001b[0m     \u001b[38;5;28;01mif\u001b[39;00m _is_path(name_or_buffer):\n\u001b[0;32m--> 230\u001b[0m         \u001b[38;5;28;01mreturn\u001b[39;00m \u001b[43m_open_file\u001b[49m\u001b[43m(\u001b[49m\u001b[43mname_or_buffer\u001b[49m\u001b[43m,\u001b[49m\u001b[43m \u001b[49m\u001b[43mmode\u001b[49m\u001b[43m)\u001b[49m\n\u001b[1;32m    231\u001b[0m     \u001b[38;5;28;01melse\u001b[39;00m:\n\u001b[1;32m    232\u001b[0m         \u001b[38;5;28;01mif\u001b[39;00m \u001b[38;5;124m'\u001b[39m\u001b[38;5;124mw\u001b[39m\u001b[38;5;124m'\u001b[39m \u001b[38;5;129;01min\u001b[39;00m mode:\n",
      "File \u001b[0;32m~/anaconda3/lib/python3.9/site-packages/torch/serialization.py:211\u001b[0m, in \u001b[0;36m_open_file.__init__\u001b[0;34m(self, name, mode)\u001b[0m\n\u001b[1;32m    210\u001b[0m \u001b[38;5;28;01mdef\u001b[39;00m \u001b[38;5;21m__init__\u001b[39m(\u001b[38;5;28mself\u001b[39m, name, mode):\n\u001b[0;32m--> 211\u001b[0m     \u001b[38;5;28msuper\u001b[39m(_open_file, \u001b[38;5;28mself\u001b[39m)\u001b[38;5;241m.\u001b[39m\u001b[38;5;21m__init__\u001b[39m(\u001b[38;5;28;43mopen\u001b[39;49m\u001b[43m(\u001b[49m\u001b[43mname\u001b[49m\u001b[43m,\u001b[49m\u001b[43m \u001b[49m\u001b[43mmode\u001b[49m\u001b[43m)\u001b[49m)\n",
      "\u001b[0;31mFileNotFoundError\u001b[0m: [Errno 2] No such file or directory: './checkpoint_cifar10/thr_1e-1/last.ckpt'"
     ]
    }
   ],
   "source": [
    "name = 'cifar10'\n",
    "spar_thr = 1e-10\n",
    "filter_flag = False\n",
    "print(name)\n",
    "\n",
    "acc_list, cr_list = [], []\n",
    "for k in \"1e-1,8e-2,6e-2,4e-2,2e-2,1e-2,1e-3,1e-4,1e-5,1e-6\".split(','):\n",
    "    _acc, _cr = investigate(f'./checkpoint_{name}/thr_{k}/last.ckpt', spar_thr, filter=filter_flag)\n",
    "    acc_list.append(_acc)\n",
    "    cr_list.append(_cr)\n",
    "print(cr_list)\n",
    "print(acc_list)\n",
    "    \n",
    "plt.plot(cr_list, acc_list)\n",
    "plt.title(f\"dataset {name} zero thr {spar_thr} filter conv and linear={filter_flag}\")\n",
    "plt.xscale('log')\n",
    "plt.xlabel('Compression Ratio')\n",
    "plt.ylabel('Accuracy')"
   ]
  },
  {
   "cell_type": "code",
   "execution_count": 31,
   "id": "36afb8f1-d3fd-4c65-bd5c-e3ac7dde7bcc",
   "metadata": {},
   "outputs": [
    {
     "name": "stdout",
     "output_type": "stream",
     "text": [
      "cifar10\n",
      "[54688.15625, 22251.66015625, 2026.04736328125, 629.5715942382812, 298.53399658203125, 268.01385498046875, 163.7516326904297, 108.52432250976562, 73.02993774414062, 52.188934326171875]\n",
      "[10.0, 30.55, 78.77, 91.73, 92.94, 92.61, 92.35, 92.14, 93.0, 92.17]\n"
     ]
    },
    {
     "data": {
      "text/plain": [
       "Text(0, 0.5, 'Accuracy')"
      ]
     },
     "execution_count": 31,
     "metadata": {},
     "output_type": "execute_result"
    },
    {
     "data": {
      "image/png": "[encoded data removed]",
      "text/plain": [
       "<Figure size 432x288 with 1 Axes>"
      ]
     },
     "metadata": {
      "needs_background": "light"
     },
     "output_type": "display_data"
    }
   ],
   "source": [
    "name = 'cifar10'\n",
    "spar_thr = 1e-6\n",
    "print(name)\n",
    "\n",
    "acc_list, cr_list = [], []\n",
    "for k in \"1e-1,8e-2,6e-2,4e-2,2e-2,1e-2,1e-3,1e-4,1e-5,1e-6\".split(','):\n",
    "    _acc, _cr = investigate(f'./checkpoint_{name}/thr_{k}/last.ckpt', spar_thr)\n",
    "    acc_list.append(_acc)\n",
    "    cr_list.append(_cr)\n",
    "print(cr_list)\n",
    "print(acc_list)\n",
    "    \n",
    "plt.plot(cr_list, acc_list)\n",
    "plt.title(f\"dataset {name} zero thr {spar_thr}\")\n",
    "plt.xscale('log')\n",
    "plt.xlabel('Compression Ratio')\n",
    "plt.ylabel('Accuracy')"
   ]
  },
  {
   "cell_type": "code",
   "execution_count": 32,
   "id": "418453d4-fc81-4e82-9d5f-a8ba424c8d91",
   "metadata": {},
   "outputs": [
    {
     "name": "stdout",
     "output_type": "stream",
     "text": [
      "cifar10\n",
      "[22117.34375, 6568.46142578125, 1931.01806640625, 629.5535888671875, 298.2019348144531, 246.2575225830078, 135.1910858154297, 83.1039047241211, 52.627315521240234, 36.205692291259766]\n",
      "[10.0, 30.55, 78.77, 91.73, 92.94, 92.61, 92.35, 92.14, 93.0, 92.17]\n"
     ]
    },
    {
     "data": {
      "text/plain": [
       "Text(0, 0.5, 'Accuracy')"
      ]
     },
     "execution_count": 32,
     "metadata": {},
     "output_type": "execute_result"
    },
    {
     "data": {
      "image/png": "[encoded data removed]",
      "text/plain": [
       "<Figure size 432x288 with 1 Axes>"
      ]
     },
     "metadata": {
      "needs_background": "light"
     },
     "output_type": "display_data"
    }
   ],
   "source": [
    "name = 'cifar10'\n",
    "spar_thr = 1e-12\n",
    "print(name)\n",
    "\n",
    "acc_list, cr_list = [], []\n",
    "for k in \"1e-1,8e-2,6e-2,4e-2,2e-2,1e-2,1e-3,1e-4,1e-5,1e-6\".split(','):\n",
    "    _acc, _cr = investigate(f'./checkpoint_{name}/thr_{k}/last.ckpt', spar_thr)\n",
    "    acc_list.append(_acc)\n",
    "    cr_list.append(_cr)\n",
    "print(cr_list)\n",
    "print(acc_list)\n",
    "    \n",
    "plt.plot(cr_list, acc_list)\n",
    "plt.title(f\"dataset {name} zero thr {spar_thr}\")\n",
    "plt.xscale('log')\n",
    "plt.xlabel('Compression Ratio')\n",
    "plt.ylabel('Accuracy')"
   ]
  },
  {
   "cell_type": "code",
   "execution_count": 52,
   "id": "00e1c06e-043f-4282-8fcb-d19596f1742c",
   "metadata": {},
   "outputs": [
    {
     "name": "stdout",
     "output_type": "stream",
     "text": [
      "cifar100\n",
      "[19416.7109375, 10311.443359375, 1056.4073486328125, 261.1680908203125, 110.6828384399414, 76.1274185180664, 48.76350784301758, 35.6347541809082, 26.038320541381836, 18.777578353881836]\n",
      "[1.45, 6.45, 44.2, 69.72, 72.25, 72.42, 72.53, 72.83, 72.28, 72.44]\n"
     ]
    },
    {
     "data": {
      "text/plain": [
       "Text(0, 0.5, 'Accuracy')"
      ]
     },
     "execution_count": 52,
     "metadata": {},
     "output_type": "execute_result"
    },
    {
     "data": {
      "image/png": "[encoded data removed]",
      "text/plain": [
       "<Figure size 432x288 with 1 Axes>"
      ]
     },
     "metadata": {
      "needs_background": "light"
     },
     "output_type": "display_data"
    }
   ],
   "source": [
    "name = 'cifar100'\n",
    "print(name)\n",
    "\n",
    "acc_list, cr_list = [], []\n",
    "for k in \"1e-1,8e-2,6e-2,4e-2,2e-2,1e-2,1e-3,1e-4,1e-5,1e-6\".split(','):\n",
    "    _acc, _cr = investigate(f'./checkpoint_{name}/thr_{k}/last.ckpt', 1e-6)\n",
    "    acc_list.append(_acc)\n",
    "    cr_list.append(_cr)\n",
    "print(cr_list)\n",
    "print(acc_list)\n",
    "    \n",
    "plt.plot(cr_list, acc_list)\n",
    "plt.title(name)\n",
    "plt.xscale('log')\n",
    "plt.xlabel('Compression Ratio')\n",
    "plt.ylabel('Accuracy')"
   ]
  },
  {
   "cell_type": "code",
   "execution_count": 172,
   "id": "c98334a9-8502-4f8a-9e4a-560b29769e43",
   "metadata": {},
   "outputs": [
    {
     "name": "stdout",
     "output_type": "stream",
     "text": [
      "[74.         73.9609149  73.90879423 73.83929051 73.74660661 73.62301249\n",
      " 73.45820147 73.23843288 72.94539145 72.55467303 72.03378054 71.33948847\n",
      " 70.41441513 69.18265675 67.54444744 65.37016351 62.49492402 58.71724778\n",
      " 53.80995347 47.56016333 39.86636457 30.91835256 21.42219832 12.65651858\n",
      "  6.01983084]\n",
      "[399720.71875, 252697.015625, 205463.921875, 173107.40625, 159308.984375, 155919.421875, 147547.921875, 148544.875, 147547.921875, 141836.390625, 140029.5625]\n",
      "[19.05, 29.95, 30.43, 30.66, 30.88, 30.34, 30.53, 30.76, 30.72, 30.85, 30.08]\n",
      "[149555.375, 36519.3359375, 11909.3388671875, 6789.57373046875, 4852.05029296875, 4336.220703125, 3889.02197265625, 3661.66552734375, 3539.6298828125, 3374.465087890625, 2826.87939453125]\n",
      "[10.0, 38.79, 75.01, 80.7, 81.44, 81.35, 81.19, 81.13, 80.96, 81.11, 81.31]\n",
      "[91222.578125, 32911.140625, 4850.97998046875, 2143.379150390625, 1344.626220703125, 1115.5751953125, 897.5886840820312, 803.3853149414062, 718.2880249023438, 647.5974731445312, 442.7566833496094]\n",
      "[10.0, 32.56, 76.82, 88.51, 89.35, 89.53, 89.47, 89.51, 89.73, 89.49, 89.72]\n",
      "[74272.4375, 38773.61328125, 3058.519775390625, 1065.9736328125, 586.5855712890625, 449.924072265625, 323.0185241699219, 262.3809814453125, 212.91392517089844, 172.5869140625, 93.81674194335938]\n",
      "[10.0, 22.42, 76.09, 91.46, 91.78, 91.94, 92.11, 92.15, 91.96, 92.07, 92.36]\n",
      "[54688.15625, 22251.66015625, 2026.04736328125, 629.5715942382812, 298.53399658203125, 268.01385498046875, 163.7516326904297, 108.52432250976562, 73.02993774414062, 52.188934326171875, 2.789226770401001]\n",
      "[10.0, 30.55, 78.77, 91.73, 92.94, 92.61, 92.35, 92.14, 93.0, 92.17, 92.04]\n"
     ]
    },
    {
     "data": {
      "image/png": "[encoded data removed]",
      "text/plain": [
       "<Figure size 288x216 with 1 Axes>"
      ]
     },
     "metadata": {
      "needs_background": "light"
     },
     "output_type": "display_data"
    }
   ],
   "source": [
    "name = 'cifar10'\n",
    "\n",
    "plt.figure(figsize=(4,3))\n",
    "Y = sigmoid(-(10 ** ((x_ratios - 5.)/2 )))\n",
    "print(74 * Y/Y[0])\n",
    "plt.plot(10 ** x_ratios, 95 * Y/Y[0] , linestyle=':', c='grey', linewidth=3, label=\"pareto\")\n",
    "\n",
    "for pretrain_wd in \"8e-3,4e-3,2e-3,1e-3,1e-4\".split(','):\n",
    "\n",
    "    acc_list, cr_list = [], []\n",
    "    \n",
    "    for k in \"1e-1,8e-2,6e-2,4e-2,2e-2,1e-2,1e-3,1e-4,1e-5,1e-6\".split(','):\n",
    "        if not os.path.exists(f'finetune/{name}_pretrain_wd_{pretrain_wd}/thr_{k}'):\n",
    "            continue\n",
    "        try:\n",
    "            _acc, _cr = investigate(f'finetune/{name}_pretrain_wd_{pretrain_wd}/thr_{k}/last.pt', 1e-6)\n",
    "        except:\n",
    "            _acc, _cr = investigate(f'finetune/{name}_pretrain_wd_{pretrain_wd}/thr_{k}/last.ckpt', 1e-6)\n",
    "        acc_list.append(_acc)\n",
    "        cr_list.append(_cr)\n",
    "    try:\n",
    "        init_acc, init_cr = investigate(f'pretrain/{name}_pretrain_wd_{pretrain_wd}/best.pt', 1e-6)\n",
    "    except:\n",
    "        init_acc, init_cr = investigate(f'pretrain/{name}_pretrain_wd_{pretrain_wd}/best.ckpt', 1e-6)\n",
    "    acc_list.append(init_acc)\n",
    "    cr_list.append(init_cr)\n",
    "    print(cr_list)\n",
    "    print(acc_list)\n",
    "    plt.plot(cr_list, acc_list, label=r\"$\\kappa$=\" + str(pretrain_wd), marker='s', markersize=4)\n",
    "\n",
    "\n",
    "plt.yticks([10, 80, 90])\n",
    "plt.title(f\"{name}\")\n",
    "plt.xlim(2, 1e6)\n",
    "plt.xscale('log')\n",
    "plt.legend()\n",
    "plt.xlabel('Compression Ratio')\n",
    "plt.ylabel('Accuracy')\n",
    "#plt.yscale('log')\n",
    "plt.savefig('cifar10.png', dpi=250, bbox_inches='tight')"
   ]
  },
  {
   "cell_type": "code",
   "execution_count": 11,
   "id": "99074355-0948-458a-acfc-510d11e8cc23",
   "metadata": {},
   "outputs": [
    {
     "name": "stdout",
     "output_type": "stream",
     "text": [
      "[7.40000000e+01 7.39753798e+01 7.39370444e+01 7.38773537e+01\n",
      " 7.37844117e+01 7.36396964e+01 7.34143713e+01 7.30635494e+01\n",
      " 7.25173893e+01 7.16673334e+01 7.03450684e+01 6.82912207e+01\n",
      " 6.51120391e+01 6.02318028e+01 5.28882035e+01 4.23425107e+01\n",
      " 2.87088440e+01 1.45213660e+01 4.53400948e+00 6.79344414e-01\n",
      " 3.40747995e-02 3.20571027e-04 2.24056660e-07 2.73478782e-12\n",
      " 6.11463381e-20]\n",
      "[206325.234375, 46089.35546875, 37229.00390625, 31810.94921875, 28159.18359375, 25881.359375, 25288.431640625, 24529.779296875, 23892.640625, 23361.693359375, 22596.51953125, 21268.59375]\n",
      "[1.0, 6.69, 9.88, 10.47, 10.66, 10.77, 10.89, 11.03, 10.84, 11.1, 11.13, 10.75]\n",
      "[117429.78125, 18185.171875, 10448.0830078125, 6417.67431640625, 4414.47705078125, 3534.55029296875, 3255.684814453125, 2929.900634765625, 2750.660400390625, 2609.859375, 2498.506103515625, 2094.374267578125]\n",
      "[1.0, 10.52, 23.49, 32.86, 35.21, 35.15, 35.59, 35.66, 35.19, 35.79, 35.74, 35.26]\n",
      "[24101.310546875, 13585.72265625, 1524.3250732421875, 467.8279113769531, 234.20925903320312, 175.90794372558594, 125.1512222290039, 102.33247375488281, 84.24908447265625, 69.29989624023438, 40.88417434692383]\n",
      "[2.44, 6.12, 40.59, 68.75, 70.19, 70.64, 70.94, 70.73, 70.34, 70.87, 71.64]\n",
      "[19416.7109375, 10311.443359375, 1056.4073486328125, 261.1680908203125, 110.6828384399414, 76.1274185180664, 48.76350784301758, 35.6347541809082, 26.038320541381836, 18.777578353881836, 7.163877964019775]\n",
      "[1.45, 6.45, 44.2, 69.72, 72.25, 72.42, 72.53, 72.83, 72.28, 72.44, 73.33]\n"
     ]
    },
    {
     "data": {
      "image/png": "[encoded data removed]",
      "text/plain": [
       "<Figure size 288x216 with 1 Axes>"
      ]
     },
     "metadata": {
      "needs_background": "light"
     },
     "output_type": "display_data"
    }
   ],
   "source": [
    "name = 'cifar100'\n",
    "\n",
    "plt.figure(figsize=(4,3))\n",
    "Y = sigmoid(-(10 ** ((x_ratios - 3.8)/1.3 )))\n",
    "print(74 * Y/Y[0])\n",
    "plt.plot(10 ** x_ratios, 75 * Y/Y[0] , linestyle=':', c='grey', linewidth=3, label=\"pareto\")\n",
    "for pretrain_wd in \"3e-3,2e-3,1e-3,1e-4\".split(','):\n",
    "\n",
    "    acc_list, cr_list = [], []\n",
    "    \n",
    "    for k in \"5e-1,1e-1,8e-2,6e-2,4e-2,2e-2,1e-2,1e-3,1e-4,1e-5,1e-6\".split(','):\n",
    "        if not os.path.exists(f'finetune/{name}_pretrain_wd_{pretrain_wd}/thr_{k}'):\n",
    "            continue\n",
    "        try:\n",
    "            _acc, _cr = investigate(f'finetune/{name}_pretrain_wd_{pretrain_wd}/thr_{k}/last.pt', 1e-6)\n",
    "        except:\n",
    "            _acc, _cr = investigate(f'finetune/{name}_pretrain_wd_{pretrain_wd}/thr_{k}/last.ckpt', 1e-6)\n",
    "        acc_list.append(_acc)\n",
    "        cr_list.append(_cr)\n",
    "    try:\n",
    "        init_acc, init_cr = investigate(f'pretrain/{name}_pretrain_wd_{pretrain_wd}/best.pt', 1e-6)\n",
    "    except:\n",
    "        init_acc, init_cr = investigate(f'pretrain/{name}_pretrain_wd_{pretrain_wd}/best.ckpt', 1e-6)\n",
    "    acc_list.append(init_acc)\n",
    "    cr_list.append(init_cr)\n",
    "    print(cr_list)\n",
    "    print(acc_list)\n",
    "    plt.plot(cr_list, acc_list, label=r\"$\\kappa$=\" + str(pretrain_wd), marker='s', markersize=4)\n",
    "\n",
    "plt.yticks([1, 70, 75])\n",
    "plt.title(f\"{name}\")\n",
    "plt.xscale('log')\n",
    "plt.legend()\n",
    "plt.xlim(8, 1e5)\n",
    "\n",
    "plt.xlabel('Compression Ratio')\n",
    "plt.ylabel('Accuracy')\n",
    "#plt.yscale('log')\n",
    "plt.savefig('cifar100.png', dpi=250, bbox_inches='tight')"
   ]
  },
  {
   "cell_type": "code",
   "execution_count": 6,
   "id": "123d4f87",
   "metadata": {},
   "outputs": [],
   "source": [
    "hide = [72.9,        73.16,       73.50333333, 72.83666667, 72.08,       70.57,\n",
    " 68.97333333, 66.84,       63.51,       59.82,       54.93666667, 49.57,\n",
    " 41.38333333, 33.15666667, 24.13333333, 15.76666667,  9.76666667,  6.45,\n",
    "  4.80666667,  2.93,        2.67666667,  1.91333333,  1.41,        1.16,\n",
    "  1.        ]\n",
    "def sigmoid(z):\n",
    "    return 1/(1 + np.exp(-z))\n"
   ]
  },
  {
   "cell_type": "code",
   "execution_count": 10,
   "id": "978be315-1e06-4143-b12a-d770ab6fab25",
   "metadata": {},
   "outputs": [
    {
     "name": "stdout",
     "output_type": "stream",
     "text": [
      "[46089.35546875, 37229.00390625, 31810.94921875, 28159.18359375, 25881.359375, 25288.431640625, 24529.779296875, 23892.640625, 23361.693359375, 22596.51953125, 21268.59375]\n",
      "[6.69, 9.88, 10.47, 10.66, 10.77, 10.89, 11.03, 10.84, 11.1, 11.13, 10.75]\n",
      "[18185.171875, 10448.0830078125, 6417.67431640625, 4414.47705078125, 3534.55029296875, 3255.684814453125, 2929.900634765625, 2750.660400390625, 2609.859375, 2498.506103515625, 2094.374267578125]\n",
      "[10.52, 23.49, 32.86, 35.21, 35.15, 35.59, 35.66, 35.19, 35.79, 35.74, 35.26]\n",
      "[24101.310546875, 13585.72265625, 1524.3250732421875, 467.8279113769531, 234.20925903320312, 175.90794372558594, 125.1512222290039, 102.33247375488281, 84.24908447265625, 69.29989624023438, 40.88417434692383]\n",
      "[2.44, 6.12, 40.59, 68.75, 70.19, 70.64, 70.94, 70.73, 70.34, 70.87, 71.64]\n",
      "[19416.7109375, 10311.443359375, 1056.4073486328125, 261.1680908203125, 110.6828384399414, 76.1274185180664, 48.76350784301758, 35.6347541809082, 26.038320541381836, 18.777578353881836, 7.163877964019775]\n",
      "[1.45, 6.45, 44.2, 69.72, 72.25, 72.42, 72.53, 72.83, 72.28, 72.44, 73.33]\n"
     ]
    },
    {
     "data": {
      "image/png": "[encoded data removed]",
      "text/plain": [
       "<Figure size 288x216 with 1 Axes>"
      ]
     },
     "metadata": {
      "needs_background": "light"
     },
     "output_type": "display_data"
    }
   ],
   "source": [
    "name = 'cifar100'\n",
    "plt.figure(figsize=(4,3))\n",
    "\n",
    "for pretrain_wd in \"3e-3,2e-3,1e-3,1e-4\".split(','):\n",
    "\n",
    "    acc_list, cr_list = [], []\n",
    "    \n",
    "    for k in \"1e-1,8e-2,6e-2,4e-2,2e-2,1e-2,1e-3,1e-4,1e-5,1e-6\".split(','):\n",
    "        try:\n",
    "            _acc, _cr = investigate(f'finetune/{name}_pretrain_wd_{pretrain_wd}/thr_{k}/last.pt', 1e-6)\n",
    "        except:\n",
    "            _acc, _cr = investigate(f'finetune/{name}_pretrain_wd_{pretrain_wd}/thr_{k}/last.ckpt', 1e-6)\n",
    "        acc_list.append(_acc)\n",
    "        cr_list.append(_cr)\n",
    "        \n",
    "    init_acc, init_cr = investigate(f'pretrain/{name}_pretrain_wd_{pretrain_wd}/best.pt', 1e-6)\n",
    "    acc_list.append(init_acc)\n",
    "    cr_list.append(init_cr)\n",
    "    print(cr_list)\n",
    "    print(acc_list)\n",
    "    plt.plot(cr_list, acc_list, label=r\"$\\kappa$=\" + str(pretrain_wd), marker='s', markersize=3)\n",
    "\n",
    "x_ratios = np.linspace(0,6,len(hide))\n",
    "plt.plot(10 ** x_ratios, hide)\n",
    "\n",
    "#Y = sigmoid(-(10 ** ((x_ratios - 3.8)/1.3 )))\n",
    "#print(74 * Y/Y[0])\n",
    "#plt.plot(10 ** x_ratios, 75 * Y/Y[0] , linestyle='--', c='black')\n",
    "\n",
    "plt.title(f\"{name}\")\n",
    "plt.xscale('log')\n",
    "plt.legend(loc='lower left')\n",
    "plt.xlabel('Compression Ratio')\n",
    "plt.ylabel('Accuracy')\n",
    "plt.savefig('cifar100.png', dpi=250, bbox_inches='tight')"
   ]
  },
  {
   "cell_type": "code",
   "execution_count": 150,
   "id": "b124a5cd",
   "metadata": {},
   "outputs": [
    {
     "name": "stdout",
     "output_type": "stream",
     "text": [
      "[(1.0, 72.9), (1.7782794100389228, 73.16), (3.1622776601683795, 73.50333333), (5.623413251903491, 72.83666667), (10.0, 72.08), (17.78279410038923, 70.57), (31.622776601683793, 68.97333333), (56.23413251903491, 66.84), (100.0, 63.51), (177.82794100389228, 59.82), (316.22776601683796, 54.93666667), (562.341325190349, 49.57), (1000.0, 41.38333333), (1778.2794100389228, 33.15666667), (3162.2776601683795, 24.13333333), (5623.413251903491, 15.76666667), (10000.0, 9.76666667), (17782.794100389227, 6.45), (31622.776601683792, 4.80666667), (56234.13251903491, 2.93), (100000.0, 2.67666667), (177827.94100389228, 1.91333333), (316227.7660168379, 1.41), (562341.3251903491, 1.16), (1000000.0, 1.0)]\n"
     ]
    }
   ],
   "source": [
    "print(list(zip(10 ** x_ratios, hide)))"
   ]
  },
  {
   "cell_type": "code",
   "execution_count": 111,
   "id": "0c45f4a8",
   "metadata": {},
   "outputs": [
    {
     "name": "stdout",
     "output_type": "stream",
     "text": [
      "[74.         73.99808027 73.99466657 73.98859646 73.97780333 73.95861402\n",
      " 73.92450236 73.86388115 73.75620249 73.56510736 73.22650906 72.62823192\n",
      " 71.57637728 69.74337584 66.59897395 61.35344471 53.02508446 40.908531\n",
      " 25.79049139 11.3546499   2.63996351  0.19720734  0.          0.\n",
      "  0.        ]\n"
     ]
    },
    {
     "name": "stderr",
     "output_type": "stream",
     "text": [
      "/tmp/ipykernel_45090/286227605.py:7: RuntimeWarning: overflow encountered in exp\n",
      "  return 1/(1 + np.exp(-z))\n"
     ]
    },
    {
     "data": {
      "text/plain": [
       "[<matplotlib.lines.Line2D at 0x7fc04478ea60>]"
      ]
     },
     "execution_count": 111,
     "metadata": {},
     "output_type": "execute_result"
    },
    {
     "data": {
      "image/png": "[encoded data removed]",
      "text/plain": [
       "<Figure size 432x288 with 1 Axes>"
      ]
     },
     "metadata": {
      "needs_background": "light"
     },
     "output_type": "display_data"
    }
   ],
   "source": [
    "Y = sigmoid(-((10 ** x_ratios) /30000 + 700))\n",
    "print(74 * Y/Y[0])\n",
    "plt.plot(10 ** x_ratios, 74 * Y/Y[0], linestyle='--', c='black')"
   ]
  },
  {
   "cell_type": "markdown",
   "id": "17d18748",
   "metadata": {},
   "source": [
    "for key in checkpoint['net'].keys():\n",
    "    if 'conv' in key and 'weight2' not in key:\n",
    "        \n",
    "        weight1 = checkpoint['net'][key]\n",
    "        key = key + '2'\n",
    "        weight2 = checkpoint['net'][key]\n",
    "        weight = weight1 #* weight2\n",
    "        weight = weight.cpu().view(-1).abs().numpy()\n",
    "        plt.title(key)\n",
    "\n",
    "        plt.hist(weight, bins=200)\n",
    "        plt.yscale('log')\n",
    "        plt.show()\n",
    "        plt.close()"
   ]
  },
  {
   "cell_type": "code",
   "execution_count": null,
   "id": "be3cbc7d",
   "metadata": {},
   "outputs": [],
   "source": [
    "#for parameter in net.parameters():\n",
    "##    weight = parameter.data.cpu().view(-1).abs().numpy()\n",
    "#    plt.hist(weight, bins=100)\n",
    "##    plt.yscale('log')\n",
    "#    plt.show()\n",
    "#    plt.close()"
   ]
  },
  {
   "cell_type": "code",
   "execution_count": null,
   "id": "f3b62367",
   "metadata": {},
   "outputs": [],
   "source": [
    "device = 'cuda'\n",
    "net = ResNet18()\n",
    "net = net.to(device)\n",
    "if device == 'cuda':\n",
    "    net = torch.nn.DataParallel(net)\n",
    "    cudnn.benchmark = True\n",
    "    \n",
    "checkpoint = torch.load('./checkpoint/last_ckpt.pth')\n",
    "net.load_state_dict(checkpoint['net'])\n",
    "best_acc = checkpoint['acc']\n",
    "start_epoch = checkpoint['epoch']"
   ]
  },
  {
   "cell_type": "code",
   "execution_count": 3,
   "id": "8d72bae2",
   "metadata": {},
   "outputs": [],
   "source": [
    "#for parameter in net.parameters():\n",
    "#    weight = parameter.data.cpu().view(-1).abs().numpy()\n",
    "#    plt.hist(weight, bins=100)\n",
    "#    plt.yscale('log')\n",
    "#    plt.show()\n",
    "#    plt.close()"
   ]
  },
  {
   "cell_type": "code",
   "execution_count": 4,
   "id": "98861c4f",
   "metadata": {},
   "outputs": [
    {
     "ename": "NameError",
     "evalue": "name 'checkpoint' is not defined",
     "output_type": "error",
     "traceback": [
      "\u001b[0;31m---------------------------------------------------------------------------\u001b[0m",
      "\u001b[0;31mNameError\u001b[0m                                 Traceback (most recent call last)",
      "\u001b[0;32m<ipython-input-4-069dd81b4eee>\u001b[0m in \u001b[0;36m<module>\u001b[0;34m\u001b[0m\n\u001b[0;32m----> 1\u001b[0;31m \u001b[0;32mfor\u001b[0m \u001b[0mkey\u001b[0m \u001b[0;32min\u001b[0m \u001b[0mcheckpoint\u001b[0m\u001b[0;34m[\u001b[0m\u001b[0;34m'net'\u001b[0m\u001b[0;34m]\u001b[0m\u001b[0;34m.\u001b[0m\u001b[0mkeys\u001b[0m\u001b[0;34m(\u001b[0m\u001b[0;34m)\u001b[0m\u001b[0;34m:\u001b[0m\u001b[0;34m\u001b[0m\u001b[0;34m\u001b[0m\u001b[0m\n\u001b[0m\u001b[1;32m      2\u001b[0m     \u001b[0;32mif\u001b[0m \u001b[0;34m'conv'\u001b[0m \u001b[0;32min\u001b[0m \u001b[0mkey\u001b[0m \u001b[0;32mand\u001b[0m \u001b[0;34m'weight2'\u001b[0m \u001b[0;32mnot\u001b[0m \u001b[0;32min\u001b[0m \u001b[0mkey\u001b[0m\u001b[0;34m:\u001b[0m\u001b[0;34m\u001b[0m\u001b[0;34m\u001b[0m\u001b[0m\n\u001b[1;32m      3\u001b[0m \u001b[0;34m\u001b[0m\u001b[0m\n\u001b[1;32m      4\u001b[0m         \u001b[0mweight1\u001b[0m \u001b[0;34m=\u001b[0m \u001b[0mcheckpoint\u001b[0m\u001b[0;34m[\u001b[0m\u001b[0;34m'net'\u001b[0m\u001b[0;34m]\u001b[0m\u001b[0;34m[\u001b[0m\u001b[0mkey\u001b[0m\u001b[0;34m]\u001b[0m\u001b[0;34m\u001b[0m\u001b[0;34m\u001b[0m\u001b[0m\n\u001b[1;32m      5\u001b[0m         \u001b[0mkey\u001b[0m \u001b[0;34m=\u001b[0m \u001b[0mkey\u001b[0m \u001b[0;34m+\u001b[0m \u001b[0;34m'2'\u001b[0m\u001b[0;34m\u001b[0m\u001b[0;34m\u001b[0m\u001b[0m\n",
      "\u001b[0;31mNameError\u001b[0m: name 'checkpoint' is not defined"
     ]
    }
   ],
   "source": [
    "for key in checkpoint['net'].keys():\n",
    "    if 'conv' in key and 'weight2' not in key:\n",
    "        \n",
    "        weight1 = checkpoint['net'][key]\n",
    "        key = key + '2'\n",
    "        weight2 = checkpoint['net'][key]\n",
    "        weight = weight1 * weight2\n",
    "        weight = weight.cpu().view(-1).abs().numpy()\n",
    "        plt.title(key)\n",
    "        plt.hist(weight, bins=200)\n",
    "        plt.yscale('log')\n",
    "        plt.show()\n",
    "        plt.close()"
   ]
  },
  {
   "cell_type": "code",
   "execution_count": 75,
   "id": "5f733cda",
   "metadata": {},
   "outputs": [],
   "source": [
    "device = 'cuda'\n",
    "net = ResNet18()\n",
    "net = net.to(device)\n",
    "if device == 'cuda':\n",
    "    net = torch.nn.DataParallel(net)\n",
    "    cudnn.benchmark = True\n",
    "    \n",
    "checkpoint = torch.load('./checkpoint/best_real_dense.pth')\n",
    "#net.load_state_dict(checkpoint['net'])\n",
    "best_acc = checkpoint['acc']\n",
    "start_epoch = checkpoint['epoch']\n",
    "\n",
    "\n"
   ]
  },
  {
   "cell_type": "code",
   "execution_count": 132,
   "id": "3c88d2bb",
   "metadata": {},
   "outputs": [],
   "source": [
    "new_check = {} #copy.deepcopy(checkpoint['net'])\n",
    "target_keys = list(net.module.state_dict().keys())\n",
    "for key in checkpoint['net'].keys():\n",
    "    \n",
    "    key2 = key[7:] \n",
    "    #print(key2)\n",
    "    if key2 in target_keys:\n",
    "        weight1 = checkpoint['net'][key]\n",
    "        new_check['module.' + key2] = weight1\n",
    "        \n",
    "        \n",
    "        key3 =  key2+ '2'\n",
    "\n",
    "        if key3 in target_keys:\n",
    "            #print('   ')\n",
    "        #weight2 = checkpoint['net'][key]\n",
    "            key3 = 'module.' + key3\n",
    "            weight = weight1 #* weight2\n",
    "            new_check[key3] = torch.ones_like(weight)\n",
    "            #weight = weight.cpu().view(-1).abs().numpy()\n",
    "        \n",
    "        \n",
    "        "
   ]
  },
  {
   "cell_type": "code",
   "execution_count": 133,
   "id": "b3a9a9a0",
   "metadata": {},
   "outputs": [
    {
     "data": {
      "text/plain": [
       "<All keys matched successfully>"
      ]
     },
     "execution_count": 133,
     "metadata": {},
     "output_type": "execute_result"
    }
   ],
   "source": [
    "net.load_state_dict(new_check)"
   ]
  },
  {
   "cell_type": "code",
   "execution_count": 109,
   "id": "a434591e",
   "metadata": {},
   "outputs": [
    {
     "data": {
      "text/plain": [
       "['conv1.weight',\n",
       " 'conv1.weight2',\n",
       " 'bn1.weight',\n",
       " 'bn1.bias',\n",
       " 'bn1.running_mean',\n",
       " 'bn1.running_var',\n",
       " 'bn1.num_batches_tracked',\n",
       " 'layer1.0.conv1.weight',\n",
       " 'layer1.0.conv1.weight2',\n",
       " 'layer1.0.bn1.weight',\n",
       " 'layer1.0.bn1.bias',\n",
       " 'layer1.0.bn1.running_mean',\n",
       " 'layer1.0.bn1.running_var',\n",
       " 'layer1.0.bn1.num_batches_tracked',\n",
       " 'layer1.0.conv2.weight',\n",
       " 'layer1.0.conv2.weight2',\n",
       " 'layer1.0.bn2.weight',\n",
       " 'layer1.0.bn2.bias',\n",
       " 'layer1.0.bn2.running_mean',\n",
       " 'layer1.0.bn2.running_var',\n",
       " 'layer1.0.bn2.num_batches_tracked',\n",
       " 'layer1.1.conv1.weight',\n",
       " 'layer1.1.conv1.weight2',\n",
       " 'layer1.1.bn1.weight',\n",
       " 'layer1.1.bn1.bias',\n",
       " 'layer1.1.bn1.running_mean',\n",
       " 'layer1.1.bn1.running_var',\n",
       " 'layer1.1.bn1.num_batches_tracked',\n",
       " 'layer1.1.conv2.weight',\n",
       " 'layer1.1.conv2.weight2',\n",
       " 'layer1.1.bn2.weight',\n",
       " 'layer1.1.bn2.bias',\n",
       " 'layer1.1.bn2.running_mean',\n",
       " 'layer1.1.bn2.running_var',\n",
       " 'layer1.1.bn2.num_batches_tracked',\n",
       " 'layer2.0.conv1.weight',\n",
       " 'layer2.0.conv1.weight2',\n",
       " 'layer2.0.bn1.weight',\n",
       " 'layer2.0.bn1.bias',\n",
       " 'layer2.0.bn1.running_mean',\n",
       " 'layer2.0.bn1.running_var',\n",
       " 'layer2.0.bn1.num_batches_tracked',\n",
       " 'layer2.0.conv2.weight',\n",
       " 'layer2.0.conv2.weight2',\n",
       " 'layer2.0.bn2.weight',\n",
       " 'layer2.0.bn2.bias',\n",
       " 'layer2.0.bn2.running_mean',\n",
       " 'layer2.0.bn2.running_var',\n",
       " 'layer2.0.bn2.num_batches_tracked',\n",
       " 'layer2.0.shortcut.0.weight',\n",
       " 'layer2.0.shortcut.0.weight2',\n",
       " 'layer2.0.shortcut.1.weight',\n",
       " 'layer2.0.shortcut.1.bias',\n",
       " 'layer2.0.shortcut.1.running_mean',\n",
       " 'layer2.0.shortcut.1.running_var',\n",
       " 'layer2.0.shortcut.1.num_batches_tracked',\n",
       " 'layer2.1.conv1.weight',\n",
       " 'layer2.1.conv1.weight2',\n",
       " 'layer2.1.bn1.weight',\n",
       " 'layer2.1.bn1.bias',\n",
       " 'layer2.1.bn1.running_mean',\n",
       " 'layer2.1.bn1.running_var',\n",
       " 'layer2.1.bn1.num_batches_tracked',\n",
       " 'layer2.1.conv2.weight',\n",
       " 'layer2.1.conv2.weight2',\n",
       " 'layer2.1.bn2.weight',\n",
       " 'layer2.1.bn2.bias',\n",
       " 'layer2.1.bn2.running_mean',\n",
       " 'layer2.1.bn2.running_var',\n",
       " 'layer2.1.bn2.num_batches_tracked',\n",
       " 'layer3.0.conv1.weight',\n",
       " 'layer3.0.conv1.weight2',\n",
       " 'layer3.0.bn1.weight',\n",
       " 'layer3.0.bn1.bias',\n",
       " 'layer3.0.bn1.running_mean',\n",
       " 'layer3.0.bn1.running_var',\n",
       " 'layer3.0.bn1.num_batches_tracked',\n",
       " 'layer3.0.conv2.weight',\n",
       " 'layer3.0.conv2.weight2',\n",
       " 'layer3.0.bn2.weight',\n",
       " 'layer3.0.bn2.bias',\n",
       " 'layer3.0.bn2.running_mean',\n",
       " 'layer3.0.bn2.running_var',\n",
       " 'layer3.0.bn2.num_batches_tracked',\n",
       " 'layer3.0.shortcut.0.weight',\n",
       " 'layer3.0.shortcut.0.weight2',\n",
       " 'layer3.0.shortcut.1.weight',\n",
       " 'layer3.0.shortcut.1.bias',\n",
       " 'layer3.0.shortcut.1.running_mean',\n",
       " 'layer3.0.shortcut.1.running_var',\n",
       " 'layer3.0.shortcut.1.num_batches_tracked',\n",
       " 'layer3.1.conv1.weight',\n",
       " 'layer3.1.conv1.weight2',\n",
       " 'layer3.1.bn1.weight',\n",
       " 'layer3.1.bn1.bias',\n",
       " 'layer3.1.bn1.running_mean',\n",
       " 'layer3.1.bn1.running_var',\n",
       " 'layer3.1.bn1.num_batches_tracked',\n",
       " 'layer3.1.conv2.weight',\n",
       " 'layer3.1.conv2.weight2',\n",
       " 'layer3.1.bn2.weight',\n",
       " 'layer3.1.bn2.bias',\n",
       " 'layer3.1.bn2.running_mean',\n",
       " 'layer3.1.bn2.running_var',\n",
       " 'layer3.1.bn2.num_batches_tracked',\n",
       " 'layer4.0.conv1.weight',\n",
       " 'layer4.0.conv1.weight2',\n",
       " 'layer4.0.bn1.weight',\n",
       " 'layer4.0.bn1.bias',\n",
       " 'layer4.0.bn1.running_mean',\n",
       " 'layer4.0.bn1.running_var',\n",
       " 'layer4.0.bn1.num_batches_tracked',\n",
       " 'layer4.0.conv2.weight',\n",
       " 'layer4.0.conv2.weight2',\n",
       " 'layer4.0.bn2.weight',\n",
       " 'layer4.0.bn2.bias',\n",
       " 'layer4.0.bn2.running_mean',\n",
       " 'layer4.0.bn2.running_var',\n",
       " 'layer4.0.bn2.num_batches_tracked',\n",
       " 'layer4.0.shortcut.0.weight',\n",
       " 'layer4.0.shortcut.0.weight2',\n",
       " 'layer4.0.shortcut.1.weight',\n",
       " 'layer4.0.shortcut.1.bias',\n",
       " 'layer4.0.shortcut.1.running_mean',\n",
       " 'layer4.0.shortcut.1.running_var',\n",
       " 'layer4.0.shortcut.1.num_batches_tracked',\n",
       " 'layer4.1.conv1.weight',\n",
       " 'layer4.1.conv1.weight2',\n",
       " 'layer4.1.bn1.weight',\n",
       " 'layer4.1.bn1.bias',\n",
       " 'layer4.1.bn1.running_mean',\n",
       " 'layer4.1.bn1.running_var',\n",
       " 'layer4.1.bn1.num_batches_tracked',\n",
       " 'layer4.1.conv2.weight',\n",
       " 'layer4.1.conv2.weight2',\n",
       " 'layer4.1.bn2.weight',\n",
       " 'layer4.1.bn2.bias',\n",
       " 'layer4.1.bn2.running_mean',\n",
       " 'layer4.1.bn2.running_var',\n",
       " 'layer4.1.bn2.num_batches_tracked',\n",
       " 'linear.weight',\n",
       " 'linear.weight2']"
      ]
     },
     "execution_count": 109,
     "metadata": {},
     "output_type": "execute_result"
    }
   ],
   "source": []
  },
  {
   "cell_type": "code",
   "execution_count": 99,
   "id": "e19ebb2a",
   "metadata": {
    "scrolled": true
   },
   "outputs": [],
   "source": [
    "new_check = copy.deepcopy(checkpoint['net'])\n",
    "for key in checkpoint['net'].keys():\n",
    "    if 'conv' in key:\n",
    "        \n",
    "        weight1 = checkpoint['net'][key]\n",
    "        key2 = key + '2'\n",
    "        \n",
    "        #weight2 = checkpoint['net'][key]\n",
    "        weight = weight1 #* weight2\n",
    "        new_check[key2] = torch.ones_like(weight)\n",
    "        weight = weight.cpu().view(-1).abs().numpy()\n",
    "        \n",
    "        \n",
    "    if \"shortcut\" in key and \"weight\" in key:\n",
    "        weight1 = checkpoint['net'][key]\n",
    "        key2 = key + '2'\n",
    "        #weight2 = checkpoint['net'][key]\n",
    "        weight = weight1 #* weight2\n",
    "        new_check[key2] = torch.ones_like(weight)\n",
    "        \n",
    "    if \"linear\" in key and \"weight\" in key:\n",
    "        weight1 = checkpoint['net'][key]\n",
    "        key2 = key + '2'\n",
    "        #weight2 = checkpoint['net'][key]\n",
    "        weight = weight1 #* weight2\n",
    "        new_check[key2] = torch.ones_like(weight)"
   ]
  },
  {
   "cell_type": "code",
   "execution_count": 100,
   "id": "1737b0e2",
   "metadata": {},
   "outputs": [
    {
     "ename": "RuntimeError",
     "evalue": "Error(s) in loading state_dict for DataParallel:\n\tUnexpected key(s) in state_dict: \"module.layer2.0.shortcut.1.weight2\", \"module.layer3.0.shortcut.1.weight2\", \"module.layer4.0.shortcut.1.weight2\", \"module.linear.bias\". ",
     "output_type": "error",
     "traceback": [
      "\u001b[0;31m---------------------------------------------------------------------------\u001b[0m",
      "\u001b[0;31mRuntimeError\u001b[0m                              Traceback (most recent call last)",
      "Input \u001b[0;32mIn [100]\u001b[0m, in \u001b[0;36m<cell line: 1>\u001b[0;34m()\u001b[0m\n\u001b[0;32m----> 1\u001b[0m \u001b[43mnet\u001b[49m\u001b[38;5;241;43m.\u001b[39;49m\u001b[43mload_state_dict\u001b[49m\u001b[43m(\u001b[49m\u001b[43mnew_check\u001b[49m\u001b[43m)\u001b[49m\n",
      "File \u001b[0;32m~/anaconda3/lib/python3.9/site-packages/torch/nn/modules/module.py:1604\u001b[0m, in \u001b[0;36mModule.load_state_dict\u001b[0;34m(self, state_dict, strict)\u001b[0m\n\u001b[1;32m   1599\u001b[0m         error_msgs\u001b[38;5;241m.\u001b[39minsert(\n\u001b[1;32m   1600\u001b[0m             \u001b[38;5;241m0\u001b[39m, \u001b[38;5;124m'\u001b[39m\u001b[38;5;124mMissing key(s) in state_dict: \u001b[39m\u001b[38;5;132;01m{}\u001b[39;00m\u001b[38;5;124m. \u001b[39m\u001b[38;5;124m'\u001b[39m\u001b[38;5;241m.\u001b[39mformat(\n\u001b[1;32m   1601\u001b[0m                 \u001b[38;5;124m'\u001b[39m\u001b[38;5;124m, \u001b[39m\u001b[38;5;124m'\u001b[39m\u001b[38;5;241m.\u001b[39mjoin(\u001b[38;5;124m'\u001b[39m\u001b[38;5;124m\"\u001b[39m\u001b[38;5;132;01m{}\u001b[39;00m\u001b[38;5;124m\"\u001b[39m\u001b[38;5;124m'\u001b[39m\u001b[38;5;241m.\u001b[39mformat(k) \u001b[38;5;28;01mfor\u001b[39;00m k \u001b[38;5;129;01min\u001b[39;00m missing_keys)))\n\u001b[1;32m   1603\u001b[0m \u001b[38;5;28;01mif\u001b[39;00m \u001b[38;5;28mlen\u001b[39m(error_msgs) \u001b[38;5;241m>\u001b[39m \u001b[38;5;241m0\u001b[39m:\n\u001b[0;32m-> 1604\u001b[0m     \u001b[38;5;28;01mraise\u001b[39;00m \u001b[38;5;167;01mRuntimeError\u001b[39;00m(\u001b[38;5;124m'\u001b[39m\u001b[38;5;124mError(s) in loading state_dict for \u001b[39m\u001b[38;5;132;01m{}\u001b[39;00m\u001b[38;5;124m:\u001b[39m\u001b[38;5;130;01m\\n\u001b[39;00m\u001b[38;5;130;01m\\t\u001b[39;00m\u001b[38;5;132;01m{}\u001b[39;00m\u001b[38;5;124m'\u001b[39m\u001b[38;5;241m.\u001b[39mformat(\n\u001b[1;32m   1605\u001b[0m                        \u001b[38;5;28mself\u001b[39m\u001b[38;5;241m.\u001b[39m\u001b[38;5;18m__class__\u001b[39m\u001b[38;5;241m.\u001b[39m\u001b[38;5;18m__name__\u001b[39m, \u001b[38;5;124m\"\u001b[39m\u001b[38;5;130;01m\\n\u001b[39;00m\u001b[38;5;130;01m\\t\u001b[39;00m\u001b[38;5;124m\"\u001b[39m\u001b[38;5;241m.\u001b[39mjoin(error_msgs)))\n\u001b[1;32m   1606\u001b[0m \u001b[38;5;28;01mreturn\u001b[39;00m _IncompatibleKeys(missing_keys, unexpected_keys)\n",
      "\u001b[0;31mRuntimeError\u001b[0m: Error(s) in loading state_dict for DataParallel:\n\tUnexpected key(s) in state_dict: \"module.layer2.0.shortcut.1.weight2\", \"module.layer3.0.shortcut.1.weight2\", \"module.layer4.0.shortcut.1.weight2\", \"module.linear.bias\". "
     ]
    }
   ],
   "source": [
    "net.load_state_dict(new_check)"
   ]
  },
  {
   "cell_type": "code",
   "execution_count": null,
   "id": "008522c5",
   "metadata": {},
   "outputs": [],
   "source": []
  }
 ],
 "metadata": {
  "kernelspec": {
   "display_name": "Python 3 (ipykernel)",
   "language": "python",
   "name": "python3"
  },
  "language_info": {
   "codemirror_mode": {
    "name": "ipython",
    "version": 3
   },
   "file_extension": ".py",
   "mimetype": "text/x-python",
   "name": "python",
   "nbconvert_exporter": "python",
   "pygments_lexer": "ipython3",
   "version": "3.9.12"
  }
 },
 "nbformat": 4,
 "nbformat_minor": 5
}
